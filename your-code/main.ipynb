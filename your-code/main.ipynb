{
 "cells": [
  {
   "cell_type": "markdown",
   "id": "576731f7",
   "metadata": {},
   "source": [
    "**Example:**\n",
    "\n",
    "eggs = (1,3,8,3,2)\n",
    "\n",
    "my_listComprehension = [1/egg for egg in eggs]\n",
    "\n",
    "print(my_listComprehension)\n"
   ]
  },
  {
   "cell_type": "markdown",
   "id": "cf2623ae",
   "metadata": {},
   "source": [
    "# Insert here the module/library import statements "
   ]
  },
  {
   "cell_type": "code",
   "execution_count": 1,
   "id": "630d7e4d",
   "metadata": {},
   "outputs": [
    {
     "ename": "ModuleNotFoundError",
     "evalue": "No module named 'statement'",
     "output_type": "error",
     "traceback": [
      "\u001b[0;31m---------------------------------------------------------------------------\u001b[0m",
      "\u001b[0;31mModuleNotFoundError\u001b[0m                       Traceback (most recent call last)",
      "Input \u001b[0;32mIn [1]\u001b[0m, in \u001b[0;36m<cell line: 1>\u001b[0;34m()\u001b[0m\n\u001b[0;32m----> 1\u001b[0m \u001b[38;5;28;01mimport\u001b[39;00m \u001b[38;5;21;01mstatement\u001b[39;00m\n",
      "\u001b[0;31mModuleNotFoundError\u001b[0m: No module named 'statement'"
     ]
    }
   ],
   "source": [
    "import statement\n"
   ]
  },
  {
   "cell_type": "markdown",
   "id": "59d96563",
   "metadata": {},
   "source": [
    "\n",
    "# Calculate the square number of the first 20 numbers. Use square as the name of the list.\n",
    "Remember to use list comprehensions and to print your results"
   ]
  },
  {
   "cell_type": "code",
   "execution_count": 19,
   "id": "52040cdf",
   "metadata": {},
   "outputs": [
    {
     "name": "stdout",
     "output_type": "stream",
     "text": [
      "[1, 4, 9, 16, 25, 36, 49, 64, 81, 100, 121, 144, 169, 196, 225, 256, 289, 324, 361, 400]\n"
     ]
    }
   ],
   "source": [
    "squaredValues =[i*i for i in range(1,21)]\n",
    "print(squaredValues)\n"
   ]
  },
  {
   "cell_type": "markdown",
   "id": "b421e0cb",
   "metadata": {},
   "source": [
    "# Calculate the square root of the first 100 numbers. Use sqrt as the name of the list.\n",
    "You will probably need to install math library with pip and import it in this file.\n",
    "\n",
    "Remember to use list comprehensions and to print your results\n"
   ]
  },
  {
   "cell_type": "code",
   "execution_count": 12,
   "id": "c047115a",
   "metadata": {},
   "outputs": [
    {
     "name": "stdout",
     "output_type": "stream",
     "text": [
      "[1, 4, 9, 16, 25, 36, 49, 64, 81, 100, 121, 144, 169, 196, 225, 256, 289, 324, 361, 400, 441, 484, 529, 576, 625, 676, 729, 784, 841, 900, 961, 1024, 1089, 1156, 1225, 1296, 1369, 1444, 1521, 1600, 1681, 1764, 1849, 1936, 2025, 2116, 2209, 2304, 2401, 2500, 2601, 2704, 2809, 2916, 3025, 3136, 3249, 3364, 3481, 3600, 3721, 3844, 3969, 4096, 4225, 4356, 4489, 4624, 4761, 4900, 5041, 5184, 5329, 5476, 5625, 5776, 5929, 6084, 6241, 6400, 6561, 6724, 6889, 7056, 7225, 7396, 7569, 7744, 7921, 8100, 8281, 8464, 8649, 8836, 9025, 9216, 9409, 9604, 9801, 10000]\n"
     ]
    }
   ],
   "source": [
    "squaredValues2 =[i*i for i in range(1,101)]\n",
    "print(squaredValues2)"
   ]
  },
  {
   "cell_type": "markdown",
   "id": "f4bfca8d",
   "metadata": {},
   "source": [
    "\n",
    "# Create this list [-10,-9,-8,-7,-6,-5,-4,-3,-2,-1,0]. Use my_list as the name of the list.\n",
    "Remember to use list comprehensions and to print your results"
   ]
  },
  {
   "cell_type": "code",
   "execution_count": 17,
   "id": "e23d87ea",
   "metadata": {},
   "outputs": [
    {
     "name": "stdout",
     "output_type": "stream",
     "text": [
      "[-10, -9, -8, -7, -6, -5, -4, -3, -2, -1]\n"
     ]
    }
   ],
   "source": [
    "my_list=[i for i in range (-10,0)]\n",
    "\n",
    "print(my_list)"
   ]
  },
  {
   "cell_type": "markdown",
   "id": "62592d9c",
   "metadata": {},
   "source": [
    "\n",
    "# Find the odd numbers from 1-100. Use odds as the name of the list. \n",
    "Remember to use list comprehensions and to print your results"
   ]
  },
  {
   "cell_type": "code",
   "execution_count": 22,
   "id": "d8d1c865",
   "metadata": {},
   "outputs": [
    {
     "name": "stdout",
     "output_type": "stream",
     "text": [
      "[1, 3, 5, 7, 9, 11, 13, 15, 17, 19, 21, 23, 25, 27, 29, 31, 33, 35, 37, 39, 41, 43, 45, 47, 49, 51, 53, 55, 57, 59, 61, 63, 65, 67, 69, 71, 73, 75, 77, 79, 81, 83, 85, 87, 89, 91, 93, 95, 97, 99]\n"
     ]
    }
   ],
   "source": [
    "my_list2=[i for i in range (1,100)if i%2 != 0]\n",
    "print(my_list2)"
   ]
  },
  {
   "cell_type": "markdown",
   "id": "d8b74c2a",
   "metadata": {},
   "source": [
    "# Find all of the numbers from 1-1000 that are divisible by 7. Use divisible_by_seven as the name of the list.\n",
    "Remember to use list comprehensions and to print your results"
   ]
  },
  {
   "cell_type": "code",
   "execution_count": 24,
   "id": "6a9cfb8c",
   "metadata": {},
   "outputs": [
    {
     "name": "stdout",
     "output_type": "stream",
     "text": [
      "[7, 14, 21, 28, 35, 42, 49, 56, 63, 70, 77, 84, 91, 98, 105, 112, 119, 126, 133, 140, 147, 154, 161, 168, 175, 182, 189, 196, 203, 210, 217, 224, 231, 238, 245, 252, 259, 266, 273, 280, 287, 294, 301, 308, 315, 322, 329, 336, 343, 350, 357, 364, 371, 378, 385, 392, 399, 406, 413, 420, 427, 434, 441, 448, 455, 462, 469, 476, 483, 490, 497, 504, 511, 518, 525, 532, 539, 546, 553, 560, 567, 574, 581, 588, 595, 602, 609, 616, 623, 630, 637, 644, 651, 658, 665, 672, 679, 686, 693, 700, 707, 714, 721, 728, 735, 742, 749, 756, 763, 770, 777, 784, 791, 798, 805, 812, 819, 826, 833, 840, 847, 854, 861, 868, 875, 882, 889, 896, 903, 910, 917, 924, 931, 938, 945, 952, 959, 966, 973, 980, 987, 994]\n"
     ]
    }
   ],
   "source": [
    "my_list2=[i for i in range (1,1000)if i%7==0]\n",
    "print(my_list2)"
   ]
  },
  {
   "cell_type": "markdown",
   "id": "6e6f21e0",
   "metadata": {},
   "source": [
    "# Remove all of the vowels in a string. Hint: make a list of the non-vowels. Use non_vowels as the name of the list.\n",
    "Remember to use list comprehensions and to print your results"
   ]
  },
  {
   "cell_type": "code",
   "execution_count": 26,
   "id": "43b38bd3",
   "metadata": {},
   "outputs": [
    {
     "name": "stdout",
     "output_type": "stream",
     "text": [
      "Fnd ll f th wrds n  strng tht r mnsyllbc\n"
     ]
    }
   ],
   "source": [
    "# You can use the following test string but feel free to modify at your convenience\n",
    "\n",
    "teststring = 'Find all of the words in a string that are monosyllabic'\n",
    "\n",
    "non_vowels = \"\".join([char for char in teststring if char not in \"aeiouAEIOU\"])\n",
    "print(non_vowels)"
   ]
  },
  {
   "cell_type": "code",
   "execution_count": null,
   "id": "d5fc7426",
   "metadata": {},
   "outputs": [],
   "source": []
  },
  {
   "cell_type": "markdown",
   "id": "277d491e",
   "metadata": {},
   "source": [
    "# Find the capital letters (and not white space) in the sentence 'The Quick Brown Fox Jumped Over The Lazy Dog'. \n",
    "- **Use capital_letters as the name of the list.**\n",
    "\n",
    "Remember to use list comprehensions and to print your results"
   ]
  },
  {
   "cell_type": "code",
   "execution_count": 28,
   "id": "3a43399c",
   "metadata": {},
   "outputs": [
    {
     "name": "stdout",
     "output_type": "stream",
     "text": [
      "['T', 'Q', 'B', 'F', 'J', 'O', 'T', 'L', 'D']\n"
     ]
    }
   ],
   "source": [
    "sentence='The Quick Brown Fox Jumped Over The Lazy Dog'\n",
    "\n",
    "capital_letters = list(filter(lambda c: c.isupper(), sentence))\n",
    "print(capital_letters)"
   ]
  },
  {
   "cell_type": "markdown",
   "id": "c2603719",
   "metadata": {},
   "source": [
    "# Find all the consonants in the sentence 'The quick brown fox jumped over the lazy dog'.\n",
    " - **Use consonants as the name of the list.**\n",
    " \n",
    "Remember to use list comprehensions and to print your results.\n"
   ]
  },
  {
   "cell_type": "code",
   "execution_count": 31,
   "id": "3ddb68df",
   "metadata": {},
   "outputs": [
    {
     "name": "stdout",
     "output_type": "stream",
     "text": [
      "['T', 'h', ' ', 'Q', 'c', 'k', ' ', 'B', 'r', 'w', 'n', ' ', 'F', 'x', ' ', 'J', 'm', 'p', 'd', ' ', 'v', 'r', ' ', 'T', 'h', ' ', 'L', 'z', 'y', ' ', 'D', 'g']\n"
     ]
    }
   ],
   "source": [
    "consonants = [char for char in sentence if char not in \"aeiouAEIOU\"]\n",
    "\n",
    "print(consonants)"
   ]
  },
  {
   "cell_type": "markdown",
   "id": "0f9c4004",
   "metadata": {},
   "source": [
    "# Find the folders you have in your madrid-oct-2018 local repo. Use files as name of the list.  \n",
    "\n",
    "**Hint: You will probably need to import os library and some of its modules. You will need to make some online research.**\n",
    "\n",
    "Remember to use list comprehensions and to print your results."
   ]
  },
  {
   "cell_type": "code",
   "execution_count": null,
   "id": "22bb13eb",
   "metadata": {},
   "outputs": [],
   "source": []
  },
  {
   "cell_type": "markdown",
   "id": "2cdaa518",
   "metadata": {},
   "source": [
    "# Create 4 lists of 10 random numbers between 0 and 100 each. Use random_lists as the name of the list. \n",
    "**Hint: You will probably need to import random module**\n",
    "\n",
    "Remember to use list comprehensions and to print your results"
   ]
  },
  {
   "cell_type": "code",
   "execution_count": 65,
   "id": "120b29bd",
   "metadata": {
    "scrolled": true
   },
   "outputs": [
    {
     "name": "stdout",
     "output_type": "stream",
     "text": [
      "[array([[66, 82, 20, 34, 33, 22, 95, 41, 87, 53],\n",
      "       [ 1, 42, 81, 85, 17, 88, 13, 27, 83, 69],\n",
      "       [50,  0, 16, 54, 79, 10,  7, 73, 56, 47],\n",
      "       [15, 51, 86, 48, 29, 68, 70, 55, 49, 76]])]\n"
     ]
    }
   ],
   "source": [
    "import numpy as np\n",
    "\n",
    "random_list=[np.random.choice(range(0, 100), 40, replace = False).reshape(-1,10)]\n",
    "\n",
    "print(random_list)"
   ]
  },
  {
   "cell_type": "markdown",
   "id": "b76ea171",
   "metadata": {},
   "source": [
    "# Flatten the following list of lists. Use flatten_list as the name of the output.\n",
    "\n",
    "Remember to use list comprehensions and to print your results\n"
   ]
  },
  {
   "cell_type": "code",
   "execution_count": 67,
   "id": "b3afebb7",
   "metadata": {},
   "outputs": [],
   "source": []
  },
  {
   "cell_type": "code",
   "execution_count": 70,
   "id": "b6bcef37",
   "metadata": {},
   "outputs": [
    {
     "name": "stdout",
     "output_type": "stream",
     "text": [
      "[1, 2, 3, 4, 5, 6, 7, 8, 9]\n"
     ]
    }
   ],
   "source": [
    "list_of_lists = [[1,2,3],[4,5,6],[7,8,9]]\n",
    "\n",
    "flatten_list = [i for sublist in list_of_lists for i in sublist]\n",
    "\n",
    "print (flatten_list)"
   ]
  },
  {
   "cell_type": "markdown",
   "id": "53c86611",
   "metadata": {},
   "source": [
    "\n",
    "# Convert the numbers of the following nested list to floats. Use floats as the name of the list. \n",
    "\n",
    "Remember to use list comprehensions and to print your results."
   ]
  },
  {
   "cell_type": "code",
   "execution_count": null,
   "id": "7087f44e",
   "metadata": {},
   "outputs": [],
   "source": [
    "list_of_lists = [['40', '20','10', '30'], ['20', '20', '20', '20', '20', '30', '20'], \\\n",
    "['30', '20', '30', '50', '10', '30', '20', '20', '20'], ['100', '100'], ['100', '100', '100', '100', '100'], \\\n",
    "['100', '100', '100', '100']]"
   ]
  },
  {
   "cell_type": "code",
   "execution_count": 78,
   "id": "a932aff5",
   "metadata": {},
   "outputs": [
    {
     "ename": "TypeError",
     "evalue": "'list' object is not callable",
     "output_type": "error",
     "traceback": [
      "\u001b[0;31m---------------------------------------------------------------------------\u001b[0m",
      "\u001b[0;31mTypeError\u001b[0m                                 Traceback (most recent call last)",
      "Input \u001b[0;32mIn [78]\u001b[0m, in \u001b[0;36m<cell line: 1>\u001b[0;34m()\u001b[0m\n\u001b[0;32m----> 1\u001b[0m floats\u001b[38;5;241m=\u001b[39m [i \u001b[38;5;28;01mfor\u001b[39;00m sublist \u001b[38;5;129;01min\u001b[39;00m list_of_lists \u001b[38;5;28;01mfor\u001b[39;00m i \u001b[38;5;129;01min\u001b[39;00m sublist(\u001b[38;5;28mfloat\u001b[39m(i) \u001b[38;5;28;01mfor\u001b[39;00m i \u001b[38;5;129;01min\u001b[39;00m list_of_lists)]\n\u001b[1;32m      3\u001b[0m \u001b[38;5;28mprint\u001b[39m(floats)\n",
      "Input \u001b[0;32mIn [78]\u001b[0m, in \u001b[0;36m<listcomp>\u001b[0;34m(.0)\u001b[0m\n\u001b[0;32m----> 1\u001b[0m floats\u001b[38;5;241m=\u001b[39m [i \u001b[38;5;28;01mfor\u001b[39;00m sublist \u001b[38;5;129;01min\u001b[39;00m list_of_lists \u001b[38;5;28;01mfor\u001b[39;00m i \u001b[38;5;129;01min\u001b[39;00m \u001b[43msublist\u001b[49m\u001b[43m(\u001b[49m\u001b[38;5;28;43mfloat\u001b[39;49m\u001b[43m(\u001b[49m\u001b[43mi\u001b[49m\u001b[43m)\u001b[49m\u001b[43m \u001b[49m\u001b[38;5;28;43;01mfor\u001b[39;49;00m\u001b[43m \u001b[49m\u001b[43mi\u001b[49m\u001b[43m \u001b[49m\u001b[38;5;129;43;01min\u001b[39;49;00m\u001b[43m \u001b[49m\u001b[43mlist_of_lists\u001b[49m\u001b[43m)\u001b[49m]\n\u001b[1;32m      3\u001b[0m \u001b[38;5;28mprint\u001b[39m(floats)\n",
      "\u001b[0;31mTypeError\u001b[0m: 'list' object is not callable"
     ]
    }
   ],
   "source": [
    "floats= [i for sublist in list_of_lists for i in sublist(float(i) for i in list_of_lists)]\n",
    "\n",
    "print(floats)"
   ]
  },
  {
   "cell_type": "markdown",
   "id": "62272da6",
   "metadata": {},
   "source": [
    "# Handle the exception thrown by the code below by using try and except blocks. \n"
   ]
  },
  {
   "cell_type": "code",
   "execution_count": 79,
   "id": "b5980ab4",
   "metadata": {},
   "outputs": [
    {
     "ename": "SyntaxError",
     "evalue": "Missing parentheses in call to 'print'. Did you mean print(i**2)? (3439384179.py, line 2)",
     "output_type": "error",
     "traceback": [
      "\u001b[0;36m  Input \u001b[0;32mIn [79]\u001b[0;36m\u001b[0m\n\u001b[0;31m    print i**2\u001b[0m\n\u001b[0m          ^\u001b[0m\n\u001b[0;31mSyntaxError\u001b[0m\u001b[0;31m:\u001b[0m Missing parentheses in call to 'print'. Did you mean print(i**2)?\n"
     ]
    }
   ],
   "source": [
    "for i in ['a','b','c']:\n",
    "    print i**2"
   ]
  },
  {
   "cell_type": "code",
   "execution_count": 104,
   "id": "3605fc78",
   "metadata": {},
   "outputs": [
    {
     "ename": "SyntaxError",
     "evalue": "Missing parentheses in call to 'print'. Did you mean print(i**2)? (1883292529.py, line 4)",
     "output_type": "error",
     "traceback": [
      "\u001b[0;36m  Input \u001b[0;32mIn [104]\u001b[0;36m\u001b[0m\n\u001b[0;31m    print i**2\u001b[0m\n\u001b[0m          ^\u001b[0m\n\u001b[0;31mSyntaxError\u001b[0m\u001b[0;31m:\u001b[0m Missing parentheses in call to 'print'. Did you mean print(i**2)?\n"
     ]
    }
   ],
   "source": [
    "for i in ['a','b','c']:\n",
    "    \n",
    "    try:\n",
    "        print i**2\n",
    "        \n",
    "    except:\n",
    "        print('dork you are missing ()')\n",
    "\n"
   ]
  },
  {
   "cell_type": "markdown",
   "id": "bda76246",
   "metadata": {},
   "source": [
    "# Handle the exception thrown by the code below by using try and except blocks. \n",
    "\n",
    "Then use a finally block to print 'All Done.'\n",
    "\n",
    "Check in provided resources the type of error you may use. \n"
   ]
  },
  {
   "cell_type": "code",
   "execution_count": 96,
   "id": "441acd1c",
   "metadata": {},
   "outputs": [
    {
     "name": "stdout",
     "output_type": "stream",
     "text": [
      "All done\n"
     ]
    }
   ],
   "source": [
    "x = 5\n",
    "y = 0\n",
    "\n",
    "try:\n",
    "    z = x/y\n",
    "    \n",
    "except:\n",
    "    print( 'All done')"
   ]
  },
  {
   "cell_type": "code",
   "execution_count": null,
   "id": "976fec9f",
   "metadata": {},
   "outputs": [],
   "source": []
  },
  {
   "cell_type": "markdown",
   "id": "85ea78c5",
   "metadata": {},
   "source": [
    "# Handle the exception thrown by the code below by using try and except blocks. \n",
    "\n",
    "Check in provided resources the type of error you may use. \n"
   ]
  },
  {
   "cell_type": "code",
   "execution_count": 107,
   "id": "783a8224",
   "metadata": {},
   "outputs": [
    {
     "name": "stdout",
     "output_type": "stream",
     "text": [
      "yo yo\n"
     ]
    }
   ],
   "source": [
    "abc=[10,20,20]\n",
    "try:\n",
    "    print(abc[3])\n",
    "except:\n",
    "    print('yo yo')"
   ]
  },
  {
   "cell_type": "code",
   "execution_count": null,
   "id": "cfcf15f0",
   "metadata": {},
   "outputs": [],
   "source": []
  },
  {
   "cell_type": "markdown",
   "id": "10223640",
   "metadata": {},
   "source": [
    "# Handle at least two kind of different exceptions when dividing a couple of numbers provided by the user. \n",
    "\n",
    "**Hint: take a look on python input function.**\n",
    "\n",
    "Check in provided resources the type of error you may use. "
   ]
  },
  {
   "cell_type": "code",
   "execution_count": null,
   "id": "3c1f141b",
   "metadata": {},
   "outputs": [],
   "source": []
  },
  {
   "cell_type": "markdown",
   "id": "5d712a55",
   "metadata": {},
   "source": [
    "# Handle the exception thrown by the code below by using try and except blocks. \n",
    "\n",
    "Check in provided resources the type of error you may use. "
   ]
  },
  {
   "cell_type": "code",
   "execution_count": 1,
   "id": "b73f824c",
   "metadata": {},
   "outputs": [
    {
     "ename": "FileNotFoundError",
     "evalue": "[Errno 2] No such file or directory: 'testfile'",
     "output_type": "error",
     "traceback": [
      "\u001b[0;31m---------------------------------------------------------------------------\u001b[0m",
      "\u001b[0;31mFileNotFoundError\u001b[0m                         Traceback (most recent call last)",
      "\u001b[0;32m<ipython-input-1-cd8832385d15>\u001b[0m in \u001b[0;36m<module>\u001b[0;34m\u001b[0m\n\u001b[0;32m----> 1\u001b[0;31m \u001b[0mf\u001b[0m \u001b[0;34m=\u001b[0m \u001b[0mopen\u001b[0m\u001b[0;34m(\u001b[0m\u001b[0;34m'testfile'\u001b[0m\u001b[0;34m,\u001b[0m\u001b[0;34m'r'\u001b[0m\u001b[0;34m)\u001b[0m\u001b[0;34m\u001b[0m\u001b[0;34m\u001b[0m\u001b[0m\n\u001b[0m\u001b[1;32m      2\u001b[0m \u001b[0mf\u001b[0m\u001b[0;34m.\u001b[0m\u001b[0mwrite\u001b[0m\u001b[0;34m(\u001b[0m\u001b[0;34m'Test write this'\u001b[0m\u001b[0;34m)\u001b[0m\u001b[0;34m\u001b[0m\u001b[0;34m\u001b[0m\u001b[0m\n",
      "\u001b[0;31mFileNotFoundError\u001b[0m: [Errno 2] No such file or directory: 'testfile'"
     ]
    }
   ],
   "source": [
    "f = open('testfile','r')\n",
    "f.write('Test write this')"
   ]
  },
  {
   "cell_type": "code",
   "execution_count": 109,
   "id": "5a1cb361",
   "metadata": {},
   "outputs": [
    {
     "name": "stdout",
     "output_type": "stream",
     "text": [
      "Something else went wrong\n"
     ]
    }
   ],
   "source": [
    "try:\n",
    "  print(f)\n",
    "except FileNotFoundError:\n",
    "  print(\"Variable f is not defined\")\n",
    "except:\n",
    "  print(\"Something else went wrong\")"
   ]
  },
  {
   "cell_type": "markdown",
   "id": "a028ccb8",
   "metadata": {},
   "source": [
    "### Handle the exceptions that can be thrown by the code below using try and except blocks. \n",
    "\n",
    "**Hint: the file could not exist and the data could not be convertable to int**\n"
   ]
  },
  {
   "cell_type": "code",
   "execution_count": 111,
   "id": "5f639ab1",
   "metadata": {},
   "outputs": [
    {
     "ename": "IndentationError",
     "evalue": "expected an indented block (2698062748.py, line 10)",
     "output_type": "error",
     "traceback": [
      "\u001b[0;36m  Input \u001b[0;32mIn [111]\u001b[0;36m\u001b[0m\n\u001b[0;31m    except:\u001b[0m\n\u001b[0m           ^\u001b[0m\n\u001b[0;31mIndentationError\u001b[0m\u001b[0;31m:\u001b[0m expected an indented block\n"
     ]
    }
   ],
   "source": [
    "\n",
    "fp = open('myfile.txt')\n",
    "\n",
    "try:\n",
    "    line = f.readline()\n",
    "    i = int(s.strip())\n",
    "    raise SyntaxError ('Compi o me declaras z o me piro')\n",
    "    \n",
    "except:"
   ]
  },
  {
   "cell_type": "markdown",
   "id": "d695245b",
   "metadata": {},
   "source": [
    "# The following function can only run on a Linux system. \n",
    "The assert in this function will throw an exception if you call it on an operating system other than Linux.\n",
    "\n",
    "Handle this exception using **try and except** blocks.\n",
    "\n",
    "You will probably need to import sys "
   ]
  },
  {
   "cell_type": "code",
   "execution_count": 83,
   "id": "3f043ef6",
   "metadata": {},
   "outputs": [
    {
     "ename": "NameError",
     "evalue": "name 'sys' is not defined",
     "output_type": "error",
     "traceback": [
      "\u001b[0;31m---------------------------------------------------------------------------\u001b[0m",
      "\u001b[0;31mNameError\u001b[0m                                 Traceback (most recent call last)",
      "Input \u001b[0;32mIn [83]\u001b[0m, in \u001b[0;36m<cell line: 4>\u001b[0;34m()\u001b[0m\n\u001b[1;32m      2\u001b[0m     \u001b[38;5;28;01massert\u001b[39;00m (\u001b[38;5;124m'\u001b[39m\u001b[38;5;124mlinux\u001b[39m\u001b[38;5;124m'\u001b[39m \u001b[38;5;129;01min\u001b[39;00m sys\u001b[38;5;241m.\u001b[39mplatform), \u001b[38;5;124m\"\u001b[39m\u001b[38;5;124mFunction can only run on Linux systems.\u001b[39m\u001b[38;5;124m\"\u001b[39m\n\u001b[1;32m      3\u001b[0m     \u001b[38;5;28mprint\u001b[39m(\u001b[38;5;124m'\u001b[39m\u001b[38;5;124mDoing something.\u001b[39m\u001b[38;5;124m'\u001b[39m)\n\u001b[0;32m----> 4\u001b[0m \u001b[43mlinux_interaction\u001b[49m\u001b[43m(\u001b[49m\u001b[43m)\u001b[49m\n",
      "Input \u001b[0;32mIn [83]\u001b[0m, in \u001b[0;36mlinux_interaction\u001b[0;34m()\u001b[0m\n\u001b[1;32m      1\u001b[0m \u001b[38;5;28;01mdef\u001b[39;00m \u001b[38;5;21mlinux_interaction\u001b[39m():\n\u001b[0;32m----> 2\u001b[0m     \u001b[38;5;28;01massert\u001b[39;00m (\u001b[38;5;124m'\u001b[39m\u001b[38;5;124mlinux\u001b[39m\u001b[38;5;124m'\u001b[39m \u001b[38;5;129;01min\u001b[39;00m \u001b[43msys\u001b[49m\u001b[38;5;241m.\u001b[39mplatform), \u001b[38;5;124m\"\u001b[39m\u001b[38;5;124mFunction can only run on Linux systems.\u001b[39m\u001b[38;5;124m\"\u001b[39m\n\u001b[1;32m      3\u001b[0m     \u001b[38;5;28mprint\u001b[39m(\u001b[38;5;124m'\u001b[39m\u001b[38;5;124mDoing something.\u001b[39m\u001b[38;5;124m'\u001b[39m)\n",
      "\u001b[0;31mNameError\u001b[0m: name 'sys' is not defined"
     ]
    }
   ],
   "source": [
    "def linux_interaction():\n",
    "    assert ('linux' in sys.platform), \"Function can only run on Linux systems.\"\n",
    "    print('Doing something.')\n",
    "linux_interaction()"
   ]
  },
  {
   "cell_type": "code",
   "execution_count": null,
   "id": "1643bbed",
   "metadata": {},
   "outputs": [],
   "source": []
  },
  {
   "cell_type": "markdown",
   "id": "9310a60b",
   "metadata": {},
   "source": [
    "\n",
    "# Bonus Questions:"
   ]
  },
  {
   "cell_type": "markdown",
   "id": "2f06d3fd",
   "metadata": {},
   "source": [
    "You will need to make some research on dictionary comprehension to solve the following questions"
   ]
  },
  {
   "cell_type": "markdown",
   "id": "3108ff54",
   "metadata": {},
   "source": [
    "## Write a function that asks for an integer and prints the square of it. \n",
    "\n",
    "**Hint: we need to continually keep checking until we get an integer.**\n",
    "\n",
    "Use a while loop with a try,except, else block to account for incorrect inputs."
   ]
  },
  {
   "cell_type": "code",
   "execution_count": null,
   "id": "94c2e76e",
   "metadata": {},
   "outputs": [],
   "source": []
  },
  {
   "cell_type": "markdown",
   "id": "7139da39",
   "metadata": {},
   "source": [
    "\n",
    "## Find all of the numbers from 1-1000 that are divisible by any single digit besides 1 (2-9). \n",
    "\n",
    "Use results as the name of the list \n"
   ]
  },
  {
   "cell_type": "code",
   "execution_count": null,
   "id": "90d3aa37",
   "metadata": {},
   "outputs": [],
   "source": []
  },
  {
   "cell_type": "markdown",
   "id": "e4791228",
   "metadata": {},
   "source": [
    "## Define a customised exception to handle not accepted values. \n",
    "\n",
    "You have the following user inputs and the Num_of_sections can not be less than 2.\n",
    "\n",
    "**Hint: Create a class derived from the pre-defined Exception class in Python**"
   ]
  },
  {
   "cell_type": "code",
   "execution_count": 6,
   "id": "86fa19bf",
   "metadata": {},
   "outputs": [
    {
     "name": "stdout",
     "output_type": "stream",
     "text": [
      "Enter Total Marks Scored: ass\n"
     ]
    },
    {
     "ename": "ValueError",
     "evalue": "invalid literal for int() with base 10: 'ass'",
     "output_type": "error",
     "traceback": [
      "\u001b[0;31m---------------------------------------------------------------------------\u001b[0m",
      "\u001b[0;31mValueError\u001b[0m                                Traceback (most recent call last)",
      "\u001b[0;32m<ipython-input-6-94b26594c4c4>\u001b[0m in \u001b[0;36m<module>\u001b[0;34m\u001b[0m\n\u001b[0;32m----> 1\u001b[0;31m \u001b[0mTotal_Marks\u001b[0m \u001b[0;34m=\u001b[0m \u001b[0mint\u001b[0m\u001b[0;34m(\u001b[0m\u001b[0minput\u001b[0m\u001b[0;34m(\u001b[0m\u001b[0;34m\"Enter Total Marks Scored: \"\u001b[0m\u001b[0;34m)\u001b[0m\u001b[0;34m)\u001b[0m\u001b[0;34m\u001b[0m\u001b[0;34m\u001b[0m\u001b[0m\n\u001b[0m\u001b[1;32m      2\u001b[0m \u001b[0mNum_of_Sections\u001b[0m \u001b[0;34m=\u001b[0m \u001b[0mint\u001b[0m\u001b[0;34m(\u001b[0m\u001b[0minput\u001b[0m\u001b[0;34m(\u001b[0m\u001b[0;34m\"Enter Num of Sections: \"\u001b[0m\u001b[0;34m)\u001b[0m\u001b[0;34m)\u001b[0m\u001b[0;34m\u001b[0m\u001b[0;34m\u001b[0m\u001b[0m\n",
      "\u001b[0;31mValueError\u001b[0m: invalid literal for int() with base 10: 'ass'"
     ]
    }
   ],
   "source": [
    "Total_Marks = int(input(\"Enter Total Marks Scored: \")) \n",
    "Num_of_Sections = int(input(\"Enter Num of Sections: \"))"
   ]
  },
  {
   "cell_type": "code",
   "execution_count": null,
   "id": "f80bb764",
   "metadata": {},
   "outputs": [],
   "source": []
  }
 ],
 "metadata": {
  "kernelspec": {
   "display_name": "Python 3 (ipykernel)",
   "language": "python",
   "name": "python3"
  },
  "language_info": {
   "codemirror_mode": {
    "name": "ipython",
    "version": 3
   },
   "file_extension": ".py",
   "mimetype": "text/x-python",
   "name": "python",
   "nbconvert_exporter": "python",
   "pygments_lexer": "ipython3",
   "version": "3.9.12"
  },
  "toc": {
   "base_numbering": 1,
   "nav_menu": {},
   "number_sections": true,
   "sideBar": true,
   "skip_h1_title": false,
   "title_cell": "Table of Contents",
   "title_sidebar": "Contents",
   "toc_cell": false,
   "toc_position": {},
   "toc_section_display": true,
   "toc_window_display": false
  },
  "vscode": {
   "interpreter": {
    "hash": "aee8b7b246df8f9039afb4144a1f6fd8d2ca17a180786b69acc140d282b71a49"
   }
  }
 },
 "nbformat": 4,
 "nbformat_minor": 5
}
